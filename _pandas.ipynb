{
 "cells": [
  {
   "cell_type": "code",
   "execution_count": 115,
   "metadata": {
    "collapsed": true
   },
   "outputs": [],
   "source": [
    "import pandas\n",
    "import os"
   ]
  },
  {
   "cell_type": "code",
   "execution_count": 116,
   "metadata": {
    "collapsed": false
   },
   "outputs": [],
   "source": [
    "#reading different type of data\n",
    "# data_path = \"c://users/nero/desktop/pandas/_data/\"\n",
    "# os.listdir(data_path)\n",
    "# df1 = pandas.read_csv(data_path+\"supermarkets.csv\")\n",
    "# df2 = pandas.read_json(data_path+\"supermarkets.json\",header=None)\n",
    "# df3 = pandas.read_excel(data_path+\"supermarkets.xlsx\",sheetname=0)\n",
    "# df4 = pandas.read_csv(data_path+\"supermarkets_commas.txt\")\n",
    "# df5 = pandas.read_csv(data_path+\"supermarkets_semi-colons.txt\",sep=\";\")"
   ]
  },
  {
   "cell_type": "code",
   "execution_count": 117,
   "metadata": {
    "collapsed": false,
    "scrolled": true
   },
   "outputs": [],
   "source": [
    "#load data\n",
    "df = pandas.read_json(\"http://pythonhow.com/supermarkets.json\")"
   ]
  },
  {
   "cell_type": "code",
   "execution_count": 118,
   "metadata": {
    "collapsed": false
   },
   "outputs": [],
   "source": [
    "#set index and update dataset\n",
    "df_address_as_id = df.set_index(\"Address\")"
   ]
  },
  {
   "cell_type": "code",
   "execution_count": 123,
   "metadata": {
    "collapsed": false
   },
   "outputs": [],
   "source": [
    "#slicing\n",
    "df_address_as_id.loc[\"735 Dolores St\":\"332 Hill St\", \"Country\":\"ID\"]\n",
    "list_of_index_all_column_country = list(df_address_as_id.loc[:,\"Country\"])\n",
    "index_0_to_3_Column_0_to_4 = df.iloc[0:3,0:4]\n",
    "index_3_column_name = df.ix[3,\"Name\"]"
   ]
  },
  {
   "cell_type": "code",
   "execution_count": 124,
   "metadata": {
    "collapsed": false
   },
   "outputs": [],
   "source": [
    "#deleting index and columns\n",
    "df_address_as_id = df_address_as_id.drop(\"3666 21st St\",0)\n",
    "df_address_as_id = df_address_as_id.drop(\"Country\",1)\n",
    "df_address_as_id = df_address_as_id.drop(df_address_as_id.index[0:3],0)\n",
    "df_address_as_id = df_address_as_id.drop(df_address_as_id.columns[0:4],1)"
   ]
  },
  {
   "cell_type": "code",
   "execution_count": 125,
   "metadata": {
    "collapsed": false
   },
   "outputs": [],
   "source": [
    "#adding index and columns\n",
    "df[\"Region\"]=df.shape[0]*[\"North America\"]\n",
    "df[\"Region\"]=df[\"Country\"]+\", \"+[\"North America\"]\n",
    "df_t = df.T\n",
    "df_t[\"6\"]=[\"My Address\", \"My City\", \"My Country\", 10, 7, \"My Name\", \"My State\", \"My Region\"]\n",
    "df = df_t.T"
   ]
  },
  {
   "cell_type": "code",
   "execution_count": 151,
   "metadata": {
    "collapsed": false
   },
   "outputs": [
    {
     "data": {
      "text/html": [
       "<div>\n",
       "<table border=\"1\" class=\"dataframe\">\n",
       "  <thead>\n",
       "    <tr style=\"text-align: right;\">\n",
       "      <th></th>\n",
       "      <th>Address</th>\n",
       "      <th>City</th>\n",
       "      <th>Country</th>\n",
       "      <th>Employees</th>\n",
       "      <th>ID</th>\n",
       "      <th>Name</th>\n",
       "      <th>State</th>\n",
       "      <th>Region</th>\n",
       "      <th>Latitude</th>\n",
       "      <th>Longitude</th>\n",
       "    </tr>\n",
       "  </thead>\n",
       "  <tbody>\n",
       "    <tr>\n",
       "      <th>0</th>\n",
       "      <td>3666 21st St</td>\n",
       "      <td>San Francisco</td>\n",
       "      <td>USA</td>\n",
       "      <td>8</td>\n",
       "      <td>1</td>\n",
       "      <td>Madeira</td>\n",
       "      <td>CA 94114</td>\n",
       "      <td>USA, North America</td>\n",
       "      <td>37.756489</td>\n",
       "      <td>-122.429343</td>\n",
       "    </tr>\n",
       "    <tr>\n",
       "      <th>1</th>\n",
       "      <td>735 Dolores St</td>\n",
       "      <td>San Francisco</td>\n",
       "      <td>USA</td>\n",
       "      <td>15</td>\n",
       "      <td>2</td>\n",
       "      <td>Bready Shop</td>\n",
       "      <td>CA 94119</td>\n",
       "      <td>USA, North America</td>\n",
       "      <td>NaN</td>\n",
       "      <td>NaN</td>\n",
       "    </tr>\n",
       "    <tr>\n",
       "      <th>2</th>\n",
       "      <td>332 Hill St</td>\n",
       "      <td>San Francisco</td>\n",
       "      <td>USA</td>\n",
       "      <td>25</td>\n",
       "      <td>3</td>\n",
       "      <td>Super River</td>\n",
       "      <td>California 94114</td>\n",
       "      <td>USA, North America</td>\n",
       "      <td>37.755725</td>\n",
       "      <td>-122.428601</td>\n",
       "    </tr>\n",
       "    <tr>\n",
       "      <th>3</th>\n",
       "      <td>3995 23rd St</td>\n",
       "      <td>San Francisco</td>\n",
       "      <td>USA</td>\n",
       "      <td>10</td>\n",
       "      <td>4</td>\n",
       "      <td>Ben's Shop</td>\n",
       "      <td>CA 94114</td>\n",
       "      <td>USA, North America</td>\n",
       "      <td>37.752965</td>\n",
       "      <td>-122.431714</td>\n",
       "    </tr>\n",
       "    <tr>\n",
       "      <th>4</th>\n",
       "      <td>1056 Sanchez St</td>\n",
       "      <td>San Francisco</td>\n",
       "      <td>USA</td>\n",
       "      <td>12</td>\n",
       "      <td>5</td>\n",
       "      <td>Sanchez</td>\n",
       "      <td>California</td>\n",
       "      <td>USA, North America</td>\n",
       "      <td>37.752146</td>\n",
       "      <td>-122.429815</td>\n",
       "    </tr>\n",
       "    <tr>\n",
       "      <th>5</th>\n",
       "      <td>551 Alvarado St</td>\n",
       "      <td>San Francisco</td>\n",
       "      <td>USA</td>\n",
       "      <td>20</td>\n",
       "      <td>6</td>\n",
       "      <td>Richvalley</td>\n",
       "      <td>CA 94114</td>\n",
       "      <td>USA, North America</td>\n",
       "      <td>37.753673</td>\n",
       "      <td>-122.433220</td>\n",
       "    </tr>\n",
       "    <tr>\n",
       "      <th>6</th>\n",
       "      <td>My Address</td>\n",
       "      <td>My City</td>\n",
       "      <td>My Country</td>\n",
       "      <td>10</td>\n",
       "      <td>7</td>\n",
       "      <td>My Name</td>\n",
       "      <td>My State</td>\n",
       "      <td>My Region</td>\n",
       "      <td>NaN</td>\n",
       "      <td>NaN</td>\n",
       "    </tr>\n",
       "  </tbody>\n",
       "</table>\n",
       "</div>"
      ],
      "text/plain": [
       "           Address           City     Country Employees ID         Name  \\\n",
       "0     3666 21st St  San Francisco         USA         8  1      Madeira   \n",
       "1   735 Dolores St  San Francisco         USA        15  2  Bready Shop   \n",
       "2      332 Hill St  San Francisco         USA        25  3  Super River   \n",
       "3     3995 23rd St  San Francisco         USA        10  4   Ben's Shop   \n",
       "4  1056 Sanchez St  San Francisco         USA        12  5      Sanchez   \n",
       "5  551 Alvarado St  San Francisco         USA        20  6   Richvalley   \n",
       "6       My Address        My City  My Country        10  7      My Name   \n",
       "\n",
       "              State              Region   Latitude   Longitude  \n",
       "0          CA 94114  USA, North America  37.756489 -122.429343  \n",
       "1          CA 94119  USA, North America        NaN         NaN  \n",
       "2  California 94114  USA, North America  37.755725 -122.428601  \n",
       "3          CA 94114  USA, North America  37.752965 -122.431714  \n",
       "4        California  USA, North America  37.752146 -122.429815  \n",
       "5          CA 94114  USA, North America  37.753673 -122.433220  \n",
       "6          My State           My Region        NaN         NaN  "
      ]
     },
     "execution_count": 151,
     "metadata": {},
     "output_type": "execute_result"
    }
   ],
   "source": [
    "#find geo-coordinates\n",
    "from geopy.geocoders import Nominatim\n",
    "nom = Nominatim()\n",
    "df[\"Full_Address\"] = df['Address']+\", \"+df['City']+\", \"+df[\"State\"]\n",
    "df[\"Geo-Code\"] = df[\"Full_Address\"].apply(nom.geocode)\n",
    "df[\"Geo-Code\"][0]\n",
    "df[\"Latitude\"] = df[\"Geo-Code\"].apply(lambda x: x.latitude if x != None else None)\n",
    "df[\"Longitude\"] = df[\"Geo-Code\"].apply(lambda x: x.longitude if x != None else None)\n",
    "df = df.drop(\"Geo-Code\",1)\n",
    "df = df.drop(\"Full_Address\",1)\n",
    "df"
   ]
  },
  {
   "cell_type": "code",
   "execution_count": null,
   "metadata": {
    "collapsed": true
   },
   "outputs": [],
   "source": []
  }
 ],
 "metadata": {
  "kernelspec": {
   "display_name": "Python 3",
   "language": "python",
   "name": "python3"
  },
  "language_info": {
   "codemirror_mode": {
    "name": "ipython",
    "version": 3
   },
   "file_extension": ".py",
   "mimetype": "text/x-python",
   "name": "python",
   "nbconvert_exporter": "python",
   "pygments_lexer": "ipython3",
   "version": "3.5.1"
  }
 },
 "nbformat": 4,
 "nbformat_minor": 1
}
